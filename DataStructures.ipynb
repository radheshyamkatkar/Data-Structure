{
  "nbformat": 4,
  "nbformat_minor": 0,
  "metadata": {
    "colab": {
      "provenance": []
    },
    "kernelspec": {
      "name": "python3",
      "display_name": "Python 3"
    },
    "language_info": {
      "name": "python"
    }
  },
  "cells": [
    {
      "cell_type": "markdown",
      "source": [
        "1. What are data structures, and why are they important?\n",
        "\n",
        "  ANS Data structures are specialized formats for organizing, processing, and storing data efficiently so that operations like searching, insertion, deletion, and updating can be performed effectively.\n",
        "\n",
        "  Importance:\n",
        "\n",
        "      > Help manage and organize data efficiently.\n",
        "\n",
        "      > Reduce complexity and improve code readability.\n",
        "\n",
        "      > Crucial for algorithm design and implementation.\n",
        "\n",
        "\n",
        "\n",
        "\n",
        "2. Explain the difference between mutable and immutable data types with examples.\n",
        "\n",
        "  Mutable Data types are the type of data types which can be changed after creating it . It can be modified as per the needs of the users. It is used when the variable value can be changed . Examples of mutable Data types are list and dict .\n",
        "\n",
        "  Immutable Data types are the type of data types which cannot be changed after creating it . It cannot be modified as per the needs of the users. It is used when the variable value can never be changed or never should be changed like addhar number . Examples of mutable Data types are string and tuple .\n",
        "\n",
        "3. What are the main differences between lists and tuples in Python?\n",
        "\n",
        "  Key Differences\n",
        "\n",
        "  Mutability:\n",
        "\n",
        "  Lists are mutable, meaning their elements can be changed after creation.\n",
        "\n",
        "  Tuples are immutable, which means their elements cannot be changed once set.\n",
        "\n",
        "  Syntax:\n",
        "\n",
        "  Lists use square brackets [].\n",
        "\n",
        "  Tuples use parentheses ().\n",
        "\n",
        "  Performance:\n",
        "\n",
        "  Tuples are faster and use less memory due to their immutability and simpler structure.\n",
        "\n",
        "  Lists are slower as they are designed for dynamic changes.\n",
        "\n",
        "  Use Cases:\n",
        "\n",
        "  Lists are suitable for collections of items that may change, such as user input, dynamic data structures, etc.\n",
        "\n",
        "  Tuples are ideal for fixed collections, like coordinates, RGB color values, and function returns that shouldn't be modified.\n",
        "\n",
        "4. Describe how dictionaries store data.\n",
        "\n",
        "  Dictionaries store data as key-value pairs using a colon. Each key is colcned to compute an index where the value is stored.\n",
        "  \n",
        "  For example\n",
        "  my_dict={'name': 'Alice', 'age': 25}\n",
        "\n",
        "5. Why might you use a set instead of a list in Python?\n",
        "\n",
        "  Set is used instead of list to remove duplicates from a collection.As set doesnot allow duplicate values the set is used to remove the extra or duplicate elements in the list .\n",
        "\n",
        "6. What is a string in Python, and how is it different from a list?\n",
        "\n",
        "  A string in Python is an immutable sequence of characters used to represent textual data. It behaves like a list in that you can iterate over it, slice it, and access characters using indexing. However, unlike a list, a string is immutable, meaning once it's created, you cannot change its content. If you attempt to change a character within a string using indexing, Python will raise a TypeError. A list, on the other hand, is mutable and can contain any type of objects, not just characters. Lists are more flexible and are used when elements might need to be changed, whereas strings are ideal for storing constant sequences of characters.\n",
        "\n",
        "7. How do tuples ensure data integrity in Python?\n",
        "  \n",
        "  Tuples help ensure data integrity by being immutable. Once a tuple is created, its contents cannot be altered. This means that functions or parts of a program that use a tuple can rely on its content remaining the same, providing consistency and reliability. Because of their immutability, tuples can also be used as dictionary keys or elements of a set, making them more versatile for situations where you need constant values. This immutability protects the data from being accidentally or maliciously modified and is a key reason why tuples are preferred in scenarios where data must not change.\n",
        "\n",
        "8. What is a hash table, and how does it relate to dictionaries in Python?\n",
        "\n",
        "  A hash table is a data structure that maps keys to values using a hashing algorithm. When you add a key to a hash table, the hash function generates a numeric value that corresponds to a location in memory where the value is stored. In Python, dictionaries are built on top of hash tables. Each key in a dictionary is hashed, and this hash is used to determine where its associated value is placed. This allows dictionaries to achieve average-case constant time complexity for operations like insertions, deletions, and lookups. If two keys hash to the same index (a hash collision), Python handles this internally using strategies like open addressing or chaining.\n",
        "\n",
        "9. Can lists contain different data types in Python?\n",
        "\n",
        "  Yes, Python lists are heterogeneous, meaning they can contain elements of different data types within the same list. This flexibility is one of the strengths of Python’s dynamic typing system. For example, a single list can contain integers, strings, floats, booleans, and even other lists or dictionaries. While this flexibility is convenient, it also means you must be cautious when performing operations on lists to ensure that each element is compatible with the intended operation.\n",
        "\n",
        "10. Explain why strings are immutable in Python.\n",
        "\n",
        "  Strings are immutable in Python for several reasons. One of the primary reasons is performance: immutable strings can be optimized by Python's memory management system and shared across different parts of a program to reduce redundancy. This also allows strings to be used as keys in dictionaries, which require hashable (and thus immutable) keys. Additionally, string immutability improves security and thread safety, as you don't have to worry about unexpected changes in a string being accessed by multiple parts of a program. Every time a string appears to be changed, Python actually creates a new string object in memory.\n",
        "\n",
        "11. What advantages do dictionaries offer over lists for certain tasks?\n",
        "\n",
        "  Dictionaries provide a major advantage in tasks that require fast lookups by key. While lists require scanning through each element to find a match (O(n) time complexity), dictionaries use hashing, which allows for O(1) average-time access. This makes dictionaries ideal for storing structured data where each item has a unique identifier, such as user profiles indexed by username, or product information indexed by product ID. Additionally, dictionaries provide semantic clarity: accessing a value with a meaningful key like user['name'] is more readable and self-explanatory than accessing it with an index like user[0].\n",
        "\n",
        "12. Describe a scenario where using a tuple would be preferable over a list.\n",
        "\n",
        "  Tuples are best suited for situations where the data should remain constant and unchangeable throughout the program. For example, storing geographical coordinates as (latitude, longitude) is a good use case, because such values represent a fixed point and should not be altered. Tuples also perform slightly better in terms of speed and memory usage, making them ideal for situations where performance is critical and data doesn’t need to change. Another use case is when you need to use the collection as a key in a dictionary—only immutable types like tuples can be used as dictionary keys.\n",
        "\n",
        "13. How do sets handle duplicate values in Python?\n",
        "\n",
        "  Sets are collections of unique and unordered elements. When you add duplicate values to a set, Python automatically removes the duplicates. For example, creating a set with [1, 2, 2, 3] will result in a set containing {1, 2, 3}. This makes sets an ideal choice for tasks like deduplication or when performing mathematical set operations such as unions and intersections.\n",
        "\n",
        "14. How does the “in” keyword work differently for lists and dictionaries?\n",
        "\n",
        "  When used with a list, the in keyword checks whether the specified value exists among the elements of the list. Python performs a linear search in this case, so the operation has O(n) time complexity. When used with a dictionary, in checks whether the specified value exists as a key in the dictionary. It does not search for values unless explicitly requested. Because dictionaries use hash tables, the key check is very fast—typically O(1) in average cases.\n",
        "\n",
        "15. Can you modify the elements of a tuple? Explain why or why not.\n",
        "  \n",
        "  No, tuples in Python are immutable, which means you cannot modify their elements once they are created. If you try to assign a new value to an index in a tuple, Python will raise a TypeError. This immutability provides several benefits: it ensures that the contents of the tuple remain constant, supports hashability (so tuples can be used as dictionary keys), and makes programs more predictable and secure by avoiding unintended side effects.\n",
        "\n",
        "16. What is a nested dictionary, and give an example of its use case?\n",
        "  \n",
        "  A nested dictionary is a dictionary that contains other dictionaries as its values. This allows you to create complex, hierarchical data structures. A typical use case for a nested dictionary is representing a record with multiple layers of information, such as a JSON-like structure for storing user profiles or configuration settings. For example, you might store a user's name, address, and job information, where each sub-category is itself a dictionary.\n",
        "  For Example\n",
        "  user = {'name': 'Alice', 'address': {'city': 'New York', 'zip': '10001'}}\n",
        "17. Describe the time complexity of accessing elements in a dictionary.\n",
        "\n",
        "  Accessing elements in a Python dictionary is highly efficient due to its hash table implementation. In the average case, the time complexity for lookups, insertions, and deletions is O(1). However, in the worst-case scenario, such as when many keys hash to the same location (a hash collision), the time complexity can degrade to O(n). Still, Python’s internal optimizations make such scenarios rare, and dictionary operations are usually extremely fast and efficient in practice.\n",
        "\n",
        "18. In what situations are lists preferred over dictionaries?\n",
        "\n",
        "  Lists are preferred when you need an ordered collection of items, especially when the data is sequential and you plan to access elements using integer indices. They're also ideal when the elements do not need to be uniquely identified with keys. Lists are easier to iterate over in order, slice, and manipulate when working with series of items like numbers, names, or records where no key-value association is required.\n",
        "\n",
        "19. Why are dictionaries considered unordered, and how does that affect data retrieval?\n",
        "\n",
        "  Historically, dictionaries were considered unordered because they didn’t preserve the order of insertion. As of Python 3.7+, dictionaries now preserve insertion order, but this behavior should not always be relied upon for logic or algorithm design unless order preservation is explicitly required. Regardless of order, data retrieval in dictionaries is always key-based, not position-based, so trying to retrieve a value without a key will not work. This makes them suitable for mapping and associative storage but not for ordered collections where element position is significant.\n",
        "\n",
        "20. Explain the difference between a list and a dictionary in terms of data retrieval.\n",
        "\n",
        "  In a list, data is retrieved using integer indices. If you want the third item, you would use my_list[2]. This means that you must know the item's position in the list. In contrast, a dictionary allows you to retrieve data using descriptive keys like my_dict['name'], which is often more intuitive and readable. Moreover, dictionary lookups are faster on average due to hash-based indexing, while list lookups can be slower, especially when searching for an item by value rather than index.\n",
        "\n",
        "\n",
        "\n",
        "\n",
        "\n"
      ],
      "metadata": {
        "id": "Zaket1MSHI6S"
      }
    },
    {
      "cell_type": "code",
      "execution_count": 5,
      "metadata": {
        "id": "64SRPXl1HIM4"
      },
      "outputs": [],
      "source": [
        "# 1. Create a string with your name and print it\n",
        "name = \"Radheshyam\"\n",
        "print(name)"
      ]
    },
    {
      "cell_type": "code",
      "source": [
        "# 2. Find the length of the string \"Hello World\"\n",
        "s = \"Hello World\"\n",
        "print(len(s))\n"
      ],
      "metadata": {
        "id": "WkjIKX5UhL4m"
      },
      "execution_count": null,
      "outputs": []
    },
    {
      "cell_type": "code",
      "source": [
        "# 3. Slice the first 3 characters from the string \"Python Programming\"\n",
        "text = \"Python Programming\"\n",
        "print(text[:3])\n"
      ],
      "metadata": {
        "id": "xJn_x_AohPVd"
      },
      "execution_count": null,
      "outputs": []
    },
    {
      "cell_type": "code",
      "source": [
        "# 4. Convert the string \"hello\" to uppercase\n",
        "word = \"hello\"\n",
        "print(word.upper())\n"
      ],
      "metadata": {
        "id": "6AjV58s4hTLh"
      },
      "execution_count": null,
      "outputs": []
    },
    {
      "cell_type": "code",
      "source": [
        "# 5. Replace \"apple\" with \"orange\" in the string \"I like apple\"\n",
        "sentence = \"I like apple\"\n",
        "print(sentence.replace(\"apple\", \"orange\"))\n"
      ],
      "metadata": {
        "id": "2kM5_RKnhaFm"
      },
      "execution_count": null,
      "outputs": []
    },
    {
      "cell_type": "code",
      "source": [
        "# 6. Create a list with numbers 1 to 5 and print it\n",
        "numbers = [1, 2, 3, 4, 5]\n",
        "print(numbers)\n"
      ],
      "metadata": {
        "id": "50dUAqcRhnBV"
      },
      "execution_count": null,
      "outputs": []
    },
    {
      "cell_type": "code",
      "source": [
        "# 7. Write a code to append the number 10 to the list [1, 2, 3, 4].\n",
        "lst = [1, 2, 3, 4]\n",
        "lst.append(10)\n",
        "print(lst)\n"
      ],
      "metadata": {
        "id": "nY5iiG9ghyU4"
      },
      "execution_count": null,
      "outputs": []
    },
    {
      "cell_type": "code",
      "source": [
        " # 8. Write a code to remove the number 3 from the list [1, 2, 3, 4, 5].\n",
        "lst = [1, 2, 3, 4, 5]\n",
        "lst.remove(3)\n",
        "print(lst)\n"
      ],
      "metadata": {
        "id": "CNUK35cgiL1d"
      },
      "execution_count": null,
      "outputs": []
    },
    {
      "cell_type": "code",
      "source": [
        "# 9. Write a code to access the second element in the list ['a', 'b', 'c', 'd'].\n",
        "chars = ['a', 'b', 'c', 'd']\n",
        "print(chars[1])\n"
      ],
      "metadata": {
        "id": "vtazjF8SiPIf"
      },
      "execution_count": null,
      "outputs": []
    },
    {
      "cell_type": "code",
      "source": [
        "# 10. Write a code to reverse the list [10, 20, 30, 40, 50].\n",
        "numbers = [10, 20, 30, 40, 50]\n",
        "numbers.reverse()\n",
        "print(numbers)\n"
      ],
      "metadata": {
        "id": "Pg2bcJUmiO90"
      },
      "execution_count": null,
      "outputs": []
    },
    {
      "cell_type": "code",
      "source": [
        "# 11. Write a code to create a tuple with the elements 100, 200, 300 and print it.\n",
        "my_tuple = (100, 200, 300)\n",
        "print(my_tuple)\n"
      ],
      "metadata": {
        "id": "R90S_xlHiTsm"
      },
      "execution_count": null,
      "outputs": []
    },
    {
      "cell_type": "code",
      "source": [
        "# 12. Write a code to access the second-to-last element of the tuple ('red', 'green', 'blue', 'yellow').\n",
        "colors = ('red', 'green', 'blue', 'yellow')\n",
        "print(colors[-2])\n"
      ],
      "metadata": {
        "id": "9B5W3rgeiTfe"
      },
      "execution_count": null,
      "outputs": []
    },
    {
      "cell_type": "code",
      "source": [
        "# 13. Write a code to find the minimum number in the tuple (10, 20, 5, 15).\n",
        "nums = (10, 20, 5, 15)\n",
        "print(min(nums))\n"
      ],
      "metadata": {
        "id": "ExlpdzsFiTXW"
      },
      "execution_count": null,
      "outputs": []
    },
    {
      "cell_type": "code",
      "source": [
        "# 14. Write a code to find the index of the element \"cat\" in the tuple ('dog', 'cat', 'rabbit').\n",
        "animals = ('dog', 'cat', 'rabbit')\n",
        "print(animals.index('cat'))\n"
      ],
      "metadata": {
        "id": "6tXtJTeyiTP2"
      },
      "execution_count": null,
      "outputs": []
    },
    {
      "cell_type": "code",
      "source": [
        "# 15. Write a code to create a tuple containing three different fruits and check if \"kiwi\" is in it.\n",
        "fruits = ('apple', 'banana', 'mango')\n",
        "print('kiwi' in fruits)\n"
      ],
      "metadata": {
        "id": "uytw-8EOiTI-"
      },
      "execution_count": null,
      "outputs": []
    },
    {
      "cell_type": "code",
      "source": [
        " # 16. Write a code to create a set with the elements 'a', 'b', 'c' and print it.\n",
        "letters = {'a', 'b', 'c'}\n",
        "print(letters)\n"
      ],
      "metadata": {
        "id": "IjNeqov5iTBe"
      },
      "execution_count": null,
      "outputs": []
    },
    {
      "cell_type": "code",
      "source": [
        "# 17. Write a code to clear all elements from the set {1, 2, 3, 4, 5}.\n",
        "nums = {1, 2, 3, 4, 5}\n",
        "nums.clear()\n",
        "print(nums)\n"
      ],
      "metadata": {
        "id": "52GXAQRpiS6T"
      },
      "execution_count": null,
      "outputs": []
    },
    {
      "cell_type": "code",
      "source": [
        "# 18. Write a code to remove the element 4 from the set {1, 2, 3, 4}.\n",
        "nums = {1, 2, 3, 4}\n",
        "nums.remove(4)\n",
        "print(nums)\n"
      ],
      "metadata": {
        "id": "XFZHnVfJiSzE"
      },
      "execution_count": null,
      "outputs": []
    },
    {
      "cell_type": "code",
      "source": [
        "# 19. Write a code to find the union of two sets {1, 2, 3} and {3, 4, 5}.\n",
        "a = {1, 2, 3}\n",
        "b = {3, 4, 5}\n",
        "print(a.union(b))\n"
      ],
      "metadata": {
        "id": "ZRgUToJOiSsI"
      },
      "execution_count": null,
      "outputs": []
    },
    {
      "cell_type": "code",
      "source": [
        "# 20. Write a code to find the intersection of two sets {1, 2, 3} and {2, 3, 4}.\n",
        "a = {1, 2, 3}\n",
        "b = {2, 3, 4}\n",
        "print(a.intersection(b))\n"
      ],
      "metadata": {
        "id": "jlM0XJjUiSk8"
      },
      "execution_count": null,
      "outputs": []
    },
    {
      "cell_type": "code",
      "source": [
        "# 21. Write a code to create a dictionary with the keys \"name\", \"age\", and \"city\", and print it.\n",
        "person = {\"name\": \"Radheshyam\", \"age\": 19, \"city\": \"Latur\"}\n",
        "print(person)\n"
      ],
      "metadata": {
        "id": "kmrsT54riSeA"
      },
      "execution_count": null,
      "outputs": []
    },
    {
      "cell_type": "code",
      "source": [
        "# 22. Write a code to add a new key-value pair \"country\": \"USA\" to the dictionary.\n",
        "person = {\"name\": \"Radheshyam\", \"age\": 19}\n",
        "person[\"country\"] = \"USA\"\n",
        "print(person)\n"
      ],
      "metadata": {
        "id": "Ik_nrLQCiSXl"
      },
      "execution_count": null,
      "outputs": []
    },
    {
      "cell_type": "code",
      "source": [
        "# 23. Write a code to access the value associated with the key \"name\" in the dictionary.\n",
        "person = {\"name\": \"Radheshyam\", \"age\": 19}\n",
        "print(person[\"name\"])\n"
      ],
      "metadata": {
        "id": "oCCs0z5XiSRc"
      },
      "execution_count": null,
      "outputs": []
    },
    {
      "cell_type": "code",
      "source": [
        "# 24. Write a code to remove the key \"age\" from the dictionary.\n",
        "person = {\"name\": \"Radheshyam\", \"age\": 19, \"city\": \"Latur\"}\n",
        "del person[\"age\"]\n",
        "print(person)\n"
      ],
      "metadata": {
        "colab": {
          "base_uri": "https://localhost:8080/"
        },
        "id": "G2SMp486iSKw",
        "outputId": "6ce40f7f-b66f-43ef-fa97-409da307bf4c"
      },
      "execution_count": 6,
      "outputs": [
        {
          "output_type": "stream",
          "name": "stdout",
          "text": [
            "{'name': 'Radheshyam', 'city': 'Latur'}\n"
          ]
        }
      ]
    },
    {
      "cell_type": "code",
      "source": [
        "# 25. Write a code to check if the key \"city\" exists in the dictionary.\n",
        "person = {\"name\": \"Radheshyam\", \"age\": 19, \"city\": \"Latur\"}\n",
        "print(\"city\" in person)\n"
      ],
      "metadata": {
        "id": "Eqo7X7mhiSEQ"
      },
      "execution_count": null,
      "outputs": []
    },
    {
      "cell_type": "code",
      "source": [
        "# 26. Write a code to create a list, a tuple, and a dictionary and print them all.\n",
        "my_list = [1, 2, 3]\n",
        "my_tuple = (4, 5, 6)\n",
        "my_dict = {\"a\": 1, \"b\": 2}\n",
        "print(my_list)\n",
        "print(my_tuple)\n",
        "print(my_dict)\n"
      ],
      "metadata": {
        "id": "8LRN6eYZiR9b"
      },
      "execution_count": null,
      "outputs": []
    },
    {
      "cell_type": "code",
      "source": [
        "# 27. Write a code to create a list of 5 random numbers between 1 and 100, sort it, and print it.\n",
        "nums=[4,23,54,34,1]\n",
        "nums.sort()\n",
        "print(nums)\n"
      ],
      "metadata": {
        "colab": {
          "base_uri": "https://localhost:8080/"
        },
        "id": "1JSKq4WeiR3v",
        "outputId": "28cb43e0-0284-4458-d13b-9c9c2e8338fb"
      },
      "execution_count": 9,
      "outputs": [
        {
          "output_type": "stream",
          "name": "stdout",
          "text": [
            "[1, 4, 23, 34, 54]\n"
          ]
        }
      ]
    },
    {
      "cell_type": "code",
      "source": [
        "# 28. Write a code to create a list with strings and print the element at the third index.\n",
        "words = [\"apple\", \"banana\", \"cherry\", \"date\", \"elderberry\"]\n",
        "print(words[3])\n"
      ],
      "metadata": {
        "id": "J8GMGQJhiRxL"
      },
      "execution_count": null,
      "outputs": []
    },
    {
      "cell_type": "code",
      "source": [
        "# 29. Write a code to combine two dictionaries into one and print the result.\n",
        "dict1 = {\"a\": 1, \"b\": 2}\n",
        "dict2 = {\"c\": 3, \"d\": 4}\n",
        "combined = {**dict1, **dict2}\n",
        "print(combined)\n"
      ],
      "metadata": {
        "id": "nSysjrOMiRoT"
      },
      "execution_count": null,
      "outputs": []
    },
    {
      "cell_type": "code",
      "source": [
        "# 30. Write a code to merge two lists and remove duplicates.\n",
        "list1 = [1, 2, 3]\n",
        "list2 = [3, 4, 5]\n",
        "merged = list(set(list1 + list2))\n",
        "print(merged)\n"
      ],
      "metadata": {
        "colab": {
          "base_uri": "https://localhost:8080/"
        },
        "id": "r3W2yozikbag",
        "outputId": "741fd68c-e340-4424-b509-c3d9ef6859f8"
      },
      "execution_count": 10,
      "outputs": [
        {
          "output_type": "stream",
          "name": "stdout",
          "text": [
            "[1, 2, 3, 4, 5]\n"
          ]
        }
      ]
    }
  ]
}